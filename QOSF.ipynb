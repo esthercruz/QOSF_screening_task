{
 "cells": [
  {
   "cell_type": "code",
   "execution_count": 2,
   "metadata": {},
   "outputs": [],
   "source": [
    "import numpy as np\n",
    "import itertools\n",
    "from random import randrange, uniform\n",
    "from scipy.optimize import minimize\n",
    "import matplotlib.pyplot as plt"
   ]
  },
  {
   "cell_type": "markdown",
   "metadata": {},
   "source": [
    "# Define previous functions\n",
    "\n",
    "Before we tackle the problem, let us define some functions that will be useful later on. \n",
    "\n",
    "They are simple functions used to compute kronecker products and density matrices or to extend an operator that acts on a reduced set of qubits to act on a larger system, among others. One can skip this part of the code since it is not directly related to our problem. "
   ]
  },
  {
   "cell_type": "code",
   "execution_count": 3,
   "metadata": {},
   "outputs": [],
   "source": [
    "def kron_(operators): \n",
    "\n",
    "    \"\"\" Compute kronecker product of the `operators` in the given order. \"\"\"\n",
    "\n",
    "    A = operators[0]\n",
    "    for i in range(len(operators)-1): \n",
    "        A = np.kron(A, operators[i+1])\n",
    "    return A\n",
    "\n",
    "def ket_to_vec(ket):\n",
    "\n",
    "    \"\"\" Return the  2**N basis vector that corresponds to `ket`, where `N` is the length of the string `ket` (number of qubits). \n",
    "    \n",
    "    Example\n",
    "    --------\n",
    "    >>> ket = '01'\n",
    "    >>> ket_to_vec(ket)\n",
    "    array([0., 1., 0., 0.]) \"\"\"\n",
    "\n",
    "    vec_basis = int(ket, 2)\n",
    "    N = len(ket)\n",
    "    vec = np.zeros(2**N)\n",
    "    vec[vec_basis] = 1\n",
    "    return vec\n",
    "\n",
    "def dagger(U):\n",
    "    \"\"\" Return the conjugate transpose of the matrix `U`. \"\"\"\n",
    "    return np.transpose(U.conj()) # IS\n",
    "\n",
    "def density_matrix(state): \n",
    "\n",
    "    \"\"\" Return the density matrix of `state`\"\"\"\n",
    "\n",
    "    s = np.reshape(state, (np.size(state),1))\n",
    "    return s@dagger(s)\n",
    "\n",
    "def isunitary(U):\n",
    "    \"\"\" Check if matrix `U` is unitary. \"\"\"\n",
    "    assert np.shape(U)[0] == np.shape(U)[1], \"Non-square matrix\"\n",
    "    n = np.linalg.norm(U@dagger(U) - np.eye(np.shape(U)[0]))\n",
    "    if n < 1e-10:\n",
    "        return(True)\n",
    "    else: return(False)\n",
    "    \n",
    "def extend_operator(H, ind, N):\n",
    "\n",
    "    \"\"\" Extend the operator `H` that acts on qubits `(ind[0], ind[1],...,ind[M-1])` to an operator that acts on \n",
    "    the whole system of  `N` qubits, by acting trivially as the identity in the rest of qubits.\"\"\"\n",
    "\n",
    "    if np.log2(np.shape(H)[0]) != np.log2(np.shape(H)[1]):\n",
    "        raise NameError('Must be square matrix')\n",
    "\n",
    "    M = int(np.log2(np.shape(H)[0])) #number of qubits in which H acts\n",
    "    \n",
    "    assert M == len(ind)\n",
    "    identity_rest = np.eye(2**(N-M))\n",
    "    H_reshape = np.reshape(np.kron(H, identity_rest), (2*N)*(2,))\n",
    "    H_swap = np.moveaxis(H_reshape, [*range(M)]+[[*range(M)][i]+N for i in range(M)], ind+ [ind[i]+N for i in range(len(ind))])\n",
    "    return np.reshape(H_swap, (2**N, 2**N))"
   ]
  },
  {
   "cell_type": "markdown",
   "metadata": {},
   "source": [
    "# Construction of a quantum circuit\n",
    "\n",
    "We procceed now to construct a quantum circuit. This is defined as a class with the following attributes: \n",
    "\n",
    "* $\\texttt{nqubits}$: number of registers that the quantum circuit has. \n",
    "* $\\texttt{gates}$: list of gates that compose the circuit. Their are ordered in the same way as should be applied in the circuit. \n",
    "\n",
    "Gate is another class, that has the following attributes: \n",
    "* $\\texttt{matrix}$: the matrix representation of the gate.\n",
    "* $\\texttt{wires}$: list of the qubit registers in which the gate acts on. "
   ]
  },
  {
   "cell_type": "code",
   "execution_count": 4,
   "metadata": {},
   "outputs": [],
   "source": [
    "class Gate:\n",
    "    \n",
    "    def __init__(self, matrix, wires):\n",
    "        self.matrix = matrix\n",
    "        self.wires = wires"
   ]
  },
  {
   "cell_type": "code",
   "execution_count": 5,
   "metadata": {},
   "outputs": [],
   "source": [
    "class Qcircuit:\n",
    "    \n",
    "    def __init__(self, nqubits):\n",
    "        self.nqubits = nqubits\n",
    "        self.gates = []\n",
    "    \n",
    "\n",
    "    def add_gate(self, Gate):\n",
    "        self.gates.append(Gate)\n",
    "   \n",
    "    def simulate(self, input_state): \n",
    "        U = np.eye(2**self.nqubits)\n",
    "        for g in self.gates: \n",
    "            gextend = extend_operator(g.matrix, g.wires, self.nqubits)\n",
    "            U = gextend@U\n",
    "\n",
    "        output_state = U@input_state\n",
    "        return output_state"
   ]
  },
  {
   "cell_type": "markdown",
   "metadata": {},
   "source": [
    "# Define some gates\n",
    "\n",
    "Let us define some gates that we will use throught the resolution of the problem. \n",
    "\n",
    "These consists on paradigmatic gates as the Pauli matrices, CNOT, Hadamard and the rotation gates $R_y(\\theta)$ and $R_x(\\theta)$"
   ]
  },
  {
   "cell_type": "code",
   "execution_count": 6,
   "metadata": {},
   "outputs": [],
   "source": [
    "X = np.array([[0,1], [1,0]])\n",
    "Y = np.array([[0,-1j], [1j,0]])\n",
    "Z = np.array([[1,0], [0,-1]])\n",
    "identity = np.eye(2)\n",
    "sigm = [identity, X, Y, Z]\n",
    "\n",
    "Hadamard = (1/np.sqrt(2))*np.array([[1,1], [1,-1]])\n",
    "Uzy = (1/np.sqrt(2))*np.array([[1, -1j], [1, 1j]])\n",
    "CNOT = np.array([[1,0,0,0], [0,1,0,0], [0,0,0,1], [0,0,1,0]])"
   ]
  },
  {
   "cell_type": "code",
   "execution_count": 7,
   "metadata": {},
   "outputs": [],
   "source": [
    "def Ry(theta): \n",
    "    Ry = np.array([[np.cos(theta/2), -np.sin(theta/2)], [np.sin(theta/2), np.cos(theta/2)]])\n",
    "    return Ry\n",
    "\n",
    "def Rx(theta): \n",
    "    Rx = np.array([[np.cos(theta/2), -1j*np.sin(theta/2)], [-1j*np.sin(theta/2), np.cos(theta/2)]])\n",
    "    return Rx"
   ]
  },
  {
   "cell_type": "markdown",
   "metadata": {},
   "source": [
    "# Solution to task 4\n",
    "\n",
    "With the previous definitions we are now ready to solve Task 4. We want to find the lowest eigenvalue of the following Hamiltonian: \n",
    "\n",
    "\\begin{equation}\n",
    "H = \\begin{pmatrix}\n",
    "1 & 0 & 0 & 0 \\\\\n",
    "0 & 0 & -1 & 0 \\\\\n",
    "0 & -1 & 0 & 0 \\\\\n",
    "0 & 0 & 0 & 1\n",
    "\\end{pmatrix}\n",
    "\\end{equation}\n",
    "\n",
    "To do so, we construct a variational algorithm. Informally, we should construct a quantum circuit $\\mathcal{C}(\\theta)$, that has the angle $\\theta$ as a parameter,  that construct a state \n",
    "$$ \\vert \\Psi (\\theta) \\rangle.$$\n",
    "\n",
    "The objective is to find the optimal $\\theta$ such that the following expectation value is minimized:\n",
    "\n",
    "\\begin{equation}\n",
    "\\min_\\theta \\  \\langle \\Psi (\\theta) \\vert H \\vert \\Psi  (\\theta) \\rangle\n",
    "\\end{equation}\n",
    "\n",
    "If we start with a good **Ansatz** for how the gates of the quantum circuit should be, then we get a chance that we will prepare a state $\\vert \\Psi (\\theta) \\rangle$ close to the ground state, after optimization over the parameter $\\theta$. \n",
    "\n",
    "Of course, we cannot measure $\\min_\\theta \\  \\langle \\Psi (\\theta) \\vert H \\vert \\Psi  (\\theta) \\rangle$  directly from the output of the quantum circuit. We can only measure $\\Psi (\\theta)$ in different basis and use the output results to compute such expectation value. We will used as basis in which we measure the Pauli basis: $\\sigma_x, \\sigma_z, \\sigma_y$. Therefore, the first thing we need in order to get the expectation value of $\\langle H \\rangle $ is the decomposition of $H$ in this basis."
   ]
  },
  {
   "cell_type": "code",
   "execution_count": 8,
   "metadata": {},
   "outputs": [],
   "source": [
    "H = np.array([[1,0,0,0], [0,0,-1,0], [0,-1,0,0], [0,0,0,1]])"
   ]
  },
  {
   "cell_type": "markdown",
   "metadata": {},
   "source": [
    "## 1. Decompose the Hamiltonian in the Pauli basis. \n",
    "\n",
    "The Pauli matrices form a basis of the Hermitian matrices. This means that, for any Hermitian operator $H$, we can write it as: \n",
    "\n",
    "\\begin{equation}\n",
    "H = \\sum_{i,j=0}^3 a_{ij} \\sigma_i \\otimes \\sigma_j\n",
    "\\end{equation}\n",
    "where we have restricted ourselves to the 2-qubit case since it is the relevant one for the problem. Here we have denoted by $\\sigma_i$ the following, for $i = 0,...3$: \n",
    "$$ \\sigma_0 = \\mathbb{1}; \\quad \\sigma_1 = \\sigma_x, \\sigma_2 = \\sigma_y, \\sigma_3 =  \\sigma_z.$$\n",
    "\n",
    "The coefficients of the Pauli expansion are obtained by: \n",
    "\\begin{equation}\n",
    "a_{ij} = \\frac{1}{4} \\text{tr} \\left( H \\sigma_i \\otimes \\sigma_j \\right),\n",
    "\\end{equation}\n",
    "where the factor $\\frac{1}{4}$ is due to normalization. \n",
    "\n",
    "Let us now obtain the coefficients of the Pauli expansion of the Hamiltonian $H$:"
   ]
  },
  {
   "cell_type": "code",
   "execution_count": 9,
   "metadata": {},
   "outputs": [],
   "source": [
    "def get_coefficients(H):\n",
    "    \n",
    "    # Number of qubits on which H acts\n",
    "    N = int(np.log2(np.shape(H)[0]))\n",
    "\n",
    "    basis_string = list(itertools.product(*(range(4) for i in range(N))))\n",
    "    \n",
    "    coeff = {}\n",
    "    for (i, base_indices) in enumerate(basis_string):\n",
    "        base = [sigm[k] for k in base_indices]\n",
    "        b = kron_(base)\n",
    "        a = np.trace(H@b)\n",
    "        if abs(a) > 1e-10:\n",
    "            coeff[base_indices] = (1/4)*np.real(a)\n",
    "    return coeff"
   ]
  },
  {
   "cell_type": "code",
   "execution_count": 10,
   "metadata": {},
   "outputs": [
    {
     "data": {
      "text/plain": [
       "{(0, 0): 0.5, (1, 1): -0.5, (2, 2): -0.5, (3, 3): 0.5}"
      ]
     },
     "execution_count": 10,
     "metadata": {},
     "output_type": "execute_result"
    }
   ],
   "source": [
    "coefficients = get_coefficients(H)\n",
    "coefficients"
   ]
  },
  {
   "cell_type": "markdown",
   "metadata": {},
   "source": [
    "We have obtained the following decomposition of $H$:\n",
    "\n",
    "\\begin{equation}\n",
    "H = \\frac{1}{2} \\left( \\mathbb{1} \\otimes \\mathbb{1} - \\sigma_x \\otimes \\sigma_x -  \\sigma_y\\otimes \\sigma_y + \\sigma_z \\otimes \\sigma_z\\right) \n",
    "\\end{equation}\n",
    "\n",
    "Now it comes the difficult part...**find a good Ansatz!**. Since in this case we have only $2$ qubits, let us first study our operator $H$ to see if we can *guess* how their eigenvalues and eigenvectors would look like. Note the following things: \n",
    "\n",
    "* $H$ is formed by **commuting** local terms. Indeed, since the Pauli matrices anticommute, for $i \\neq j$ we get:\n",
    "\n",
    "\n",
    "$$\\left( \\sigma_i \\otimes \\sigma_i\\right)\\left(\\sigma_j \\otimes \\sigma_j\\right) = \\left(  \\sigma_i \\sigma_j \\right) \\otimes  \\left(  \\sigma_i \\sigma_j \\right) = \\left( -  \\sigma_j \\sigma_i \\right) \\otimes \\left( -  \\sigma_j \\sigma_i \\right) = \\left( \\sigma_j \\otimes \\sigma_j\\right)\\left(\\sigma_i \\otimes \\sigma_i\\right)$$\n",
    "\n",
    "This means that there exists a basis of commom eigenvectors of the local terms $\\sigma_i \\otimes \\sigma_i$. We can have a first guess of how the eigenvectors will look like: \n",
    "\n",
    "\\begin{align}\n",
    "\\cos \\alpha \\vert 0 0 \\rangle &+ e^{i \\phi} \\sin \\alpha \\vert 11 \\rangle \\\\\n",
    "& \\text{or} \\\\\n",
    "\\cos \\beta \\vert 0 1 \\rangle &+ e^{i \\phi} \\sin \\beta \\vert 10 \\rangle\n",
    "\\end{align}\n",
    "for $\\vert \\alpha \\vert^2 + \\vert \\beta \\vert^2 = 1$, or *some combination of these two*.\n",
    "\n",
    "Then, a good Ansatz can be the following state: \n",
    "\n",
    "$$ \\cos \\frac{\\theta}{2} \\vert 0 0 \\rangle - i \\sin \\frac{\\theta}{2} \\vert 0 1 \\rangle - i \\sin \\frac{\\theta}{2} \\vert 1 0 \\rangle + \\cos \\frac{\\theta}{2} \\vert 11 \\rangle. $$\n",
    "We can prepare this state with a quantum circuit: \n",
    "\n",
    "$$ \\left( H \\otimes \\mathbb{1} \\right)  CNOT  \\left(  R_x (\\theta) \\otimes \\mathbb{1}\\right)$$\n",
    "\n",
    "* We can already see what the lowest eigenvalue is, since the Pauli matrices only have eigenvalues $\\lbrace+1,-1 \\rbrace$, the only possible combinations for the eigenvalues of $H$ are: \n",
    "$$\\lbrace 1,  1 , 1, -1\\rbrace$$\n",
    "\n",
    "\n",
    "Of course this was an easy case and in general we won't be able to have such guesses, but they can help us to see if we are doing fine in the optimization process later on."
   ]
  },
  {
   "cell_type": "markdown",
   "metadata": {},
   "source": [
    "# 2. Initialization of the circuit\n",
    "\n",
    "Let's start our variational algorithm, by constructing the quantum circuit that generates the Ansatz state described before:"
   ]
  },
  {
   "cell_type": "code",
   "execution_count": 11,
   "metadata": {},
   "outputs": [],
   "source": [
    "def circuit_init(theta): \n",
    "\n",
    "    circuit_init = Qcircuit(2)\n",
    "    circuit_init.add_gate(Gate(Hadamard, [0]))\n",
    "    circuit_init.add_gate(Gate(CNOT, [0,1]))\n",
    "    circuit_init.add_gate(Gate(Rx(theta), [0]))\n",
    "    \n",
    "    # Input state by default is all qubits in '0' state\n",
    "    input_state = circuit_init.nqubits*'0'\n",
    "    \n",
    "    state = circuit_init.simulate(ket_to_vec(input_state))\n",
    "    return state"
   ]
  },
  {
   "cell_type": "markdown",
   "metadata": {},
   "source": [
    "## 3. Search for the lowest eigenvalue: find optimal $\\theta$. \n",
    "\n",
    "We want to find now the angle $\\theta$ that minimizes the expectation value optimize now the expectation value: $\\langle \\Psi (\\theta) \\vert H \\vert \\Psi  (\\theta) \\rangle$. \n",
    "\n",
    "Let us do it in two different ways: \n",
    "\n",
    "1. We compute directly the expectation values of $\\langle \\sigma_i \\otimes \\sigma_i \\rangle (\\theta)$ in the following way: \n",
    "\n",
    "$$\\langle \\sigma_i \\otimes \\sigma_i \\rangle (\\theta)= \\text{tr} \\left( \\sigma_i \\otimes \\sigma_i \\cdot  \\rho (\\theta)\\right), $$\n",
    "\n",
    "where $\\rho (\\theta) = \\vert \\Psi (\\theta) \\rangle \\langle \\Psi (\\theta)\\vert  $ is the density matrix of the state after the variational circuit. \n",
    "\n",
    "We then plot the function $\\langle H \\rangle (\\theta) $ and use $\\texttt{scipy}$ to minimize it. Of course, this is not what we would do on an actual quantum computer, since we do not have access to expectation values but to measurements. This is what we do in part 2. \n",
    "\n",
    "2. We compute the expectation value of $\\langle \\sigma_i \\otimes \\sigma_i \\rangle$ by measuring the state $\\vert \\Psi (\\theta) \\rangle$ in this basis and taking the average. That is, we count the number of times that the output was $+1$ and $-1$, sum all them and normalize by the number of measurements. With this, we can reconstruct $\\langle H \\rangle (\\theta) $ as before."
   ]
  },
  {
   "cell_type": "markdown",
   "metadata": {},
   "source": [
    "### 3.1. Compute directlly the expectation values"
   ]
  },
  {
   "cell_type": "code",
   "execution_count": 12,
   "metadata": {},
   "outputs": [],
   "source": [
    "def expectation_values(theta, H):\n",
    "    ansatz = circuit_init(theta)\n",
    "    rho = density_matrix(ansatz)\n",
    "    \n",
    "    coeff = get_coefficients(H)\n",
    "    exp = 0\n",
    "    nqubits = 2\n",
    "\n",
    "    for c in coeff.keys(): \n",
    "        if c == nqubits*(0,):\n",
    "            exp += coeff[c]\n",
    "        if c != nqubits*(0,):\n",
    "            operator = kron_([sigm[i] for i in c])\n",
    "            exp_operator = np.trace(operator@rho)\n",
    "            exp += coeff[c]*np.real(exp_operator)\n",
    "\n",
    "    return exp"
   ]
  },
  {
   "cell_type": "code",
   "execution_count": 13,
   "metadata": {},
   "outputs": [
    {
     "data": {
      "image/png": "[encoded data removed]",
      "text/plain": [
       "<Figure size 576x360 with 1 Axes>"
      ]
     },
     "metadata": {
      "needs_background": "light"
     },
     "output_type": "display_data"
    }
   ],
   "source": [
    "t = np.linspace(0, 2*np.pi, 100)\n",
    "fig = plt.figure(figsize = (8,5))\n",
    "plt.plot(t, [expectation_values(tt, H) for tt in t])\n",
    "plt.xlabel(\"Angle\")\n",
    "plt.ylabel(\"$< H >$\");"
   ]
  },
  {
   "cell_type": "code",
   "execution_count": 14,
   "metadata": {},
   "outputs": [],
   "source": [
    "t0 = uniform(0,4*np.pi)\n",
    "tmin = minimize(expectation_values, t0, args = H)"
   ]
  },
  {
   "cell_type": "markdown",
   "metadata": {},
   "source": [
    "The minimum eigenvalue is found to be -1:"
   ]
  },
  {
   "cell_type": "code",
   "execution_count": 15,
   "metadata": {},
   "outputs": [
    {
     "data": {
      "text/plain": [
       "-0.9999999999999996"
      ]
     },
     "execution_count": 15,
     "metadata": {},
     "output_type": "execute_result"
    }
   ],
   "source": [
    "expectation_values(tmin.x[0], H)"
   ]
  },
  {
   "cell_type": "markdown",
   "metadata": {},
   "source": [
    "And the corresponding eigenvector is, up to global phases: \n",
    "\n",
    "$$ \\vert 01 \\rangle + \\vert 01 \\rangle$$"
   ]
  },
  {
   "cell_type": "code",
   "execution_count": 16,
   "metadata": {},
   "outputs": [
    {
     "data": {
      "text/plain": [
       "array([5.92847053e-09+0.j        , 0.00000000e+00+0.70710678j,\n",
       "       0.00000000e+00+0.70710678j, 5.92847053e-09+0.j        ])"
      ]
     },
     "execution_count": 16,
     "metadata": {},
     "output_type": "execute_result"
    }
   ],
   "source": [
    "circuit_init(tmin.x[0])"
   ]
  },
  {
   "cell_type": "markdown",
   "metadata": {},
   "source": [
    "### 3.2. Do it by measuring"
   ]
  },
  {
   "cell_type": "code",
   "execution_count": 17,
   "metadata": {},
   "outputs": [],
   "source": [
    "def circuit_measure(state, basis):\n",
    "    nqubits = int(np.log2(len(state)))\n",
    "    \n",
    "    change_basis = []\n",
    "    for b in basis: \n",
    "        if b == 1: \n",
    "            change_basis.append(Hadamard)\n",
    "        elif b == 2: \n",
    "            change_basis.append(Uzy)\n",
    "        elif b == 3: \n",
    "            change_basis.append(identity)\n",
    "\n",
    "    U = kron_(change_basis)\n",
    "    s = U@state\n",
    "    prob = np.abs(s)**2\n",
    "    \n",
    "    outputs = list(itertools.product(*(range(2) for i in range(nqubits))))\n",
    "    result = np.random.choice(2**nqubits, p = prob)\n",
    "    result = list(bin(result)[2:].zfill(nqubits))\n",
    "    return result\n",
    "\n",
    "def get_parity(result):\n",
    "\n",
    "    \"\"\" Return parity of `result`. \"\"\"\n",
    "\n",
    "    parity = +1\n",
    "    for s in range(len(result)):\n",
    "        parity *= ((-2)*np.int(result[s]) + 1)\n",
    "    return parity"
   ]
  },
  {
   "cell_type": "code",
   "execution_count": 18,
   "metadata": {},
   "outputs": [],
   "source": [
    "def expectation_values_measurements(Nmeasurements, theta, H):\n",
    "    N = int(np.log2(np.shape(H)[0]))\n",
    "    coeff = get_coefficients(H)\n",
    "    basis = list(coeff.keys())\n",
    "    \n",
    "    state = circuit_init(theta)\n",
    "    \n",
    "    expectation = {}\n",
    "    for base in basis:\n",
    "        if base != N*(0,):\n",
    "            exp = 0\n",
    "            for i in range(Nmeasurements): \n",
    "                output = circuit_measure(state, base)\n",
    "                #print(output)\n",
    "                exp += get_parity(output)\n",
    "\n",
    "            exp /= Nmeasurements\n",
    "            expectation[base] = exp\n",
    "\n",
    "    expectation[N*(0,)] = 1\n",
    "\n",
    "    exp = 0\n",
    "    for c in coeff.keys(): \n",
    "        exp += coeff[c]*expectation[c]\n",
    "\n",
    "    return exp"
   ]
  },
  {
   "cell_type": "code",
   "execution_count": 19,
   "metadata": {},
   "outputs": [
    {
     "data": {
      "image/png": "[encoded data removed]",
      "text/plain": [
       "<Figure size 576x360 with 1 Axes>"
      ]
     },
     "metadata": {
      "needs_background": "light"
     },
     "output_type": "display_data"
    }
   ],
   "source": [
    "# Set up a number of measurements\n",
    "Nmeasurements = 100\n",
    "basis = [(1,1), (2,2), (3,3)]\n",
    "t = np.linspace(0, 2*np.pi, 100)\n",
    "fig = plt.figure(figsize = (8,5))\n",
    "\n",
    "plt.plot(t, [expectation_values_measurements(Nmeasurements, theta, H) for theta in t])\n",
    "plt.xlabel(\"Angle\")\n",
    "plt.ylabel(\"$< H >$\");"
   ]
  },
  {
   "cell_type": "markdown",
   "metadata": {},
   "source": [
    "Naturally, the output is much more noisy than the previous method, but we see that the expectation value of $H$ as the same form as before with respect to the angle $\\theta$, reaching its minimum for:\n",
    "\n",
    "$$\\langle H \\rangle (\\theta = \\pi) = -1$$"
   ]
  }
 ],
 "metadata": {
  "kernelspec": {
   "display_name": "Python 3",
   "language": "python",
   "name": "python3"
  },
  "language_info": {
   "codemirror_mode": {
    "name": "ipython",
    "version": 3
   },
   "file_extension": ".py",
   "mimetype": "text/x-python",
   "name": "python",
   "nbconvert_exporter": "python",
   "pygments_lexer": "ipython3",
   "version": "3.7.4"
  }
 },
 "nbformat": 4,
 "nbformat_minor": 2
}
